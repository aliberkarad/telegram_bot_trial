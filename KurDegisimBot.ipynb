{
  "nbformat": 4,
  "nbformat_minor": 0,
  "metadata": {
    "colab": {
      "name": "KurDegisimBot",
      "provenance": [],
      "collapsed_sections": [],
      "authorship_tag": "ABX9TyOVUENA5tQn2s0yj3aqcKky"
    },
    "kernelspec": {
      "name": "python3",
      "display_name": "Python 3"
    },
    "language_info": {
      "name": "python"
    }
  },
  "cells": [
    {
      "cell_type": "markdown",
      "source": [
        "## Telegram Exchange Rate Change Watch Bot"
      ],
      "metadata": {
        "id": "zezgbYtAWU9k"
      }
    },
    {
      "cell_type": "markdown",
      "source": [
        "#####Downloading Chromium"
      ],
      "metadata": {
        "id": "YKK6sKo94KxJ"
      }
    },
    {
      "cell_type": "code",
      "source": [
        "!apt-get update\n",
        "!apt install chromium-chromedriver"
      ],
      "metadata": {
        "id": "Ds3rpjKu4MmY"
      },
      "execution_count": null,
      "outputs": []
    },
    {
      "cell_type": "markdown",
      "source": [
        "#####Download Selenium Library"
      ],
      "metadata": {
        "id": "I4ZUajlP4iJk"
      }
    },
    {
      "cell_type": "code",
      "source": [
        "!pip install selenium"
      ],
      "metadata": {
        "id": "f2WPsOuy4hSw"
      },
      "execution_count": null,
      "outputs": []
    },
    {
      "cell_type": "markdown",
      "source": [
        "#####Telebot Library"
      ],
      "metadata": {
        "id": "YVeaa4HW4mTm"
      }
    },
    {
      "cell_type": "code",
      "source": [
        "!pip install pyTelegramBotAPI"
      ],
      "metadata": {
        "id": "jNAWV1Et4mee"
      },
      "execution_count": null,
      "outputs": []
    },
    {
      "cell_type": "markdown",
      "source": [
        "#####Used Libraries"
      ],
      "metadata": {
        "id": "xb9xWa-r45vq"
      }
    },
    {
      "cell_type": "code",
      "source": [
        "from selenium import webdriver\n",
        "from selenium.webdriver.common.by import By\n",
        "import telebot\n",
        "import time"
      ],
      "metadata": {
        "id": "l3nobXMM458h"
      },
      "execution_count": 4,
      "outputs": []
    },
    {
      "cell_type": "markdown",
      "source": [
        "#####Presettings"
      ],
      "metadata": {
        "id": "NxhtX-K_5HDR"
      }
    },
    {
      "cell_type": "code",
      "source": [
        "client_options = webdriver.ChromeOptions()\n",
        "client_options.add_argument('--headless')\n",
        "client_options.add_argument('--no-sandbox')\n",
        "client_options.add_argument('--disable-dev-shm-usage')\n",
        "Chromium = webdriver.Chrome('chromedriver',chrome_options=client_options)\n",
        "\n",
        "BotToken = \"BOT_TOKEN\"\n",
        "ChatID = \"CHAT_ID\" \n",
        "bot = telebot.TeleBot(BotToken)\n",
        "\n",
        "usdDegisimEski=0\n",
        "euroDegisimEski=0\n",
        "btcDegisimEski=0\n",
        "goldDegisimEski=0"
      ],
      "metadata": {
        "id": "NqfM0WyS5GqU",
        "colab": {
          "base_uri": "https://localhost:8080/"
        },
        "outputId": "9336a782-9750-47c4-812b-3ab094577e16"
      },
      "execution_count": 5,
      "outputs": [
        {
          "output_type": "stream",
          "name": "stderr",
          "text": [
            "/usr/local/lib/python3.7/dist-packages/ipykernel_launcher.py:5: DeprecationWarning: use options instead of chrome_options\n",
            "  \"\"\"\n"
          ]
        }
      ]
    },
    {
      "cell_type": "markdown",
      "source": [
        "#####Dollar/Turkish Lira currency function"
      ],
      "metadata": {
        "id": "G3f4uG6Y6BU6"
      }
    },
    {
      "cell_type": "code",
      "execution_count": 11,
      "metadata": {
        "id": "GWiU_UWi4CTz"
      },
      "outputs": [],
      "source": [
        "def Dollar():\n",
        "  global usdDegisimEski\n",
        "  Chromium.get(\"https://kur.doviz.com/serbest-piyasa/amerikan-dolari\")\n",
        "  usdDegisim = Chromium.find_element(By.XPATH,'/html/body/div[3]/div[2]/div[1]/div[1]/div[2]/div[1]/div[3]/span[1]')\n",
        "  usdValue = Chromium.find_element(By.XPATH,'/html/body/div[3]/div[2]/div[1]/div[1]/div[2]/div[1]/div[2]')\n",
        "  \n",
        "  usdDegisimYeni = float(usdDegisim.text[1:].replace(\",\",\".\"))\n",
        "    \n",
        "  if usdDegisimEski > usdDegisimYeni:\n",
        "    bot.send_message(ChatID,\"Dolar %\"+ str(usdDegisimYeni) +\" değerinde anlık DÜŞÜŞ yaşadı.\\nŞuanki Değeri .: \" + usdValue.text)\n",
        "  if usdDegisimEski < usdDegisimYeni:\n",
        "    bot.send_message(ChatID,\"Dolar %\"+ str(usdDegisimYeni) +\" değerinde YÜKSELİŞ oldu.\\nŞuanki Değeri .: \" + usdValue.text)\n",
        "\n",
        "  usdDegisimEski = usdDegisimYeni\n",
        "  "
      ]
    },
    {
      "cell_type": "markdown",
      "source": [
        "#####Euro/TurkishLira currency function"
      ],
      "metadata": {
        "id": "SI1nrHI8j4O5"
      }
    },
    {
      "cell_type": "code",
      "source": [
        "def Euro():\n",
        "  global euroDegisimEski\n",
        "  Chromium.get(\"https://kur.doviz.com/serbest-piyasa/euro\")\n",
        "  euroDegisim = Chromium.find_element(By.XPATH,'/html/body/div[3]/div[2]/div[1]/div[1]/div[2]/div[1]/div[3]/span[1]')\n",
        "  euroValue = Chromium.find_element(By.XPATH,'/html/body/div[3]/div[2]/div[1]/div[1]/div[2]/div[1]/div[2]')\n",
        "\n",
        "  euroDegisimYeni = float(euroDegisim.text[1:].replace(\",\",\".\"))\n",
        "    \n",
        "  if euroDegisimEski > euroDegisimYeni:\n",
        "    bot.send_message(ChatID,\"Euro %\"+ str(euroDegisimYeni) +\" değerinde anlık DÜŞÜŞ yaşadı.\\nŞuanki Değeri .: \" + euroValue.text)\n",
        "  if euroDegisimEski < euroDegisimYeni:\n",
        "    bot.send_message(ChatID,\"Euro %\"+ str(euroDegisimYeni) +\" değerinde YÜKSELİŞ oldu.\\nŞuanki Değeri .: \" + euroValue.text)\n",
        "\n",
        "  euroDegisimEski = euroDegisimYeni\n",
        "  "
      ],
      "metadata": {
        "id": "jL5FvDGEipzp"
      },
      "execution_count": 12,
      "outputs": []
    },
    {
      "cell_type": "markdown",
      "source": [
        "#####Gold/TurkishLira currency function"
      ],
      "metadata": {
        "id": "UvtbETMMj4rD"
      }
    },
    {
      "cell_type": "code",
      "source": [
        "def Gold():\n",
        "  global goldDegisimEski\n",
        "  Chromium.get(\"https://altin.doviz.com/gram-altin\")\n",
        "  goldDegisim = Chromium.find_element(By.XPATH,'/html/body/div[3]/div[2]/div[1]/div[1]/div[2]/div[1]/div[3]/span[1]')\n",
        "  goldValue = Chromium.find_element(By.XPATH,'/html/body/div[3]/div[2]/div[1]/div[1]/div[2]/div[1]/div[2]')\n",
        "\n",
        "  goldDegisimYeni = float(goldDegisim.text[1:].replace(\",\",\".\"))\n",
        "    \n",
        "  if goldDegisimEski > goldDegisimYeni:\n",
        "    bot.send_message(ChatID,\"Gram Altın %\"+ str(goldDegisimYeni) +\" değerinde anlık DÜŞÜŞ yaşadı.\\nŞuanki Değeri .: \" + goldValue.text)\n",
        "  if goldDegisimEski < goldDegisimYeni:\n",
        "    bot.send_message(ChatID,\"Gram Altın %\"+ str(goldDegisimYeni) +\" değerinde YÜKSELİŞ oldu.\\nŞuanki Değeri .: \" + goldValue.text)\n",
        "\n",
        "  goldDegisimEski = goldDegisimYeni\n",
        "  "
      ],
      "metadata": {
        "id": "BV0GeA65iqQP"
      },
      "execution_count": 13,
      "outputs": []
    },
    {
      "cell_type": "markdown",
      "source": [
        "#####Bitcoin/TurkishLira currency function"
      ],
      "metadata": {
        "id": "mHzVhNENj5Fg"
      }
    },
    {
      "cell_type": "code",
      "source": [
        "def Bitcoin():\n",
        "  global btcDegisimEski\n",
        "  Chromium.get(\"https://www.doviz.com/kripto-paralar/bitcoin\")\n",
        "  btcDegisim = Chromium.find_element(By.XPATH,'/html/body/div[3]/div[2]/div[1]/div[1]/div/div[3]/div[1]/div[3]/div')\n",
        "  btcValue = Chromium.find_element(By.XPATH,'/html/body/div[3]/div[2]/div[1]/div[1]/div/div[3]/div[1]/div[2]')\n",
        "\n",
        "  btcDegisimYeni = float(btcDegisim.text[1:].replace(\",\",\".\"))\n",
        "    \n",
        "  if btcDegisimEski > btcDegisimYeni:\n",
        "    bot.send_message(ChatID,\"BTC % \"+ str(btcDegisimYeni) +\" değerinde anlık DÜŞÜŞ yaşadı.\\nŞuanki Değeri .: \" + btcValue.text)\n",
        "  if btcDegisimEski < btcDegisimYeni:\n",
        "    bot.send_message(ChatID,\"BTC % \"+ str(btcDegisimYeni) +\" değerinde YÜKSELİŞ oldu.\\nŞuanki Değeri .: \" + btcValue.text)\n",
        "\n",
        "  btcDegisimEski = btcDegisimYeni\n",
        "   "
      ],
      "metadata": {
        "id": "O7eKRF2wiwgm"
      },
      "execution_count": 14,
      "outputs": []
    },
    {
      "cell_type": "markdown",
      "source": [
        "#### . . : : MAIN : : . ."
      ],
      "metadata": {
        "id": "o7PECDGNLDS-"
      }
    },
    {
      "cell_type": "code",
      "source": [
        "while 1:\n",
        "  Dollar()\n",
        "  time.sleep(18) \n",
        "  Euro()\n",
        "  time.sleep(18) \n",
        "  Gold()\n",
        "  time.sleep(18) \n",
        "  Bitcoin()\n",
        "  time.sleep(18) "
      ],
      "metadata": {
        "id": "71XuBB3ULDCl"
      },
      "execution_count": null,
      "outputs": []
    }
  ]
}