{
  "nbformat": 4,
  "nbformat_minor": 0,
  "metadata": {
    "colab": {
      "name": "dovizTakip",
      "provenance": [],
      "collapsed_sections": [],
      "authorship_tag": "ABX9TyPXgCBskrzSGcUSfCwkEZsE"
    },
    "kernelspec": {
      "name": "python3",
      "display_name": "Python 3"
    },
    "language_info": {
      "name": "python"
    },
    "accelerator": "TPU"
  },
  "cells": [
    {
      "cell_type": "markdown",
      "source": [
        "#Telegram Bot Uygulaması\n",
        "**Döviz takibi yapabilmek tasarlanmıştır.**"
      ],
      "metadata": {
        "id": "jmBrn72ZNCml"
      }
    },
    {
      "cell_type": "markdown",
      "source": [
        "####Kütüphanelerin ve Chromium indirme\n"
      ],
      "metadata": {
        "id": "16jWXfmLzFhS"
      }
    },
    {
      "cell_type": "markdown",
      "source": [
        "#####Chromium İndirilmesi"
      ],
      "metadata": {
        "id": "l-YSiaqWt-h8"
      }
    },
    {
      "cell_type": "code",
      "source": [
        "!apt-get update\n",
        "!apt install chromium-chromedriver"
      ],
      "metadata": {
        "id": "4EW7yMRgy3wN"
      },
      "execution_count": null,
      "outputs": []
    },
    {
      "cell_type": "markdown",
      "source": [
        "#####Selenium Kütüphanesi İndirilmesi"
      ],
      "metadata": {
        "id": "ehvvgOhBuKh4"
      }
    },
    {
      "cell_type": "code",
      "source": [
        "!pip install selenium"
      ],
      "metadata": {
        "id": "uIWB7zbfuB4v"
      },
      "execution_count": null,
      "outputs": []
    },
    {
      "cell_type": "markdown",
      "source": [
        "#####Telegram Bot Kütüphanesi İndirilmesi"
      ],
      "metadata": {
        "id": "cA5Dp_wFtvA_"
      }
    },
    {
      "cell_type": "code",
      "source": [
        "!pip install pyTelegramBotAPI"
      ],
      "metadata": {
        "id": "M1EaG8_NtuCg"
      },
      "execution_count": null,
      "outputs": []
    },
    {
      "cell_type": "markdown",
      "source": [
        "####Kullanılacak Kütüphaneneler"
      ],
      "metadata": {
        "id": "AohvvEHhP30Z"
      }
    },
    {
      "cell_type": "code",
      "execution_count": null,
      "metadata": {
        "id": "qlwr9kw3LnWJ"
      },
      "outputs": [],
      "source": [
        "from selenium import webdriver\n",
        "from selenium.webdriver.common.by import By\n",
        "import telebot\n",
        "import time"
      ]
    },
    {
      "cell_type": "markdown",
      "source": [
        "#####Selenium ve Telebot Tanımlaması"
      ],
      "metadata": {
        "id": "Y4wLAyKG4GuP"
      }
    },
    {
      "cell_type": "code",
      "source": [
        "client_secenekleri = webdriver.ChromeOptions()\n",
        "client_secenekleri.add_argument('--headless')\n",
        "client_secenekleri.add_argument('--no-sandbox')\n",
        "client_secenekleri.add_argument('--disable-dev-shm-usage')\n",
        "Chromium = webdriver.Chrome('chromedriver',chrome_options=client_secenekleri)"
      ],
      "metadata": {
        "id": "2M25ozTuQs1g",
        "colab": {
          "base_uri": "https://localhost:8080/"
        },
        "outputId": "3f8c5bc4-afd5-4ac6-dad1-70f04f70e07a"
      },
      "execution_count": null,
      "outputs": [
        {
          "output_type": "stream",
          "name": "stderr",
          "text": [
            "/usr/local/lib/python3.7/dist-packages/ipykernel_launcher.py:5: DeprecationWarning: use options instead of chrome_options\n",
            "  \"\"\"\n"
          ]
        }
      ]
    },
    {
      "cell_type": "code",
      "source": [
        "BotToken = \"BOT_TOKEN\"     \n",
        "ChatID = \"CHAT_ID\"      \n",
        "dovizBot = telebot.TeleBot(BotToken)"
      ],
      "metadata": {
        "id": "AxbzCbJB_pYu"
      },
      "execution_count": null,
      "outputs": []
    },
    {
      "cell_type": "markdown",
      "source": [
        "#####Kur Bilgisi Fonsiyonu"
      ],
      "metadata": {
        "id": "VYT1ksj-Qqo8"
      }
    },
    {
      "cell_type": "code",
      "source": [
        "def KurBilgisi():\n",
        "\n",
        "  kur = \"\"\n",
        "  Chromium.get(\"https://www.doviz.com/kripto-paralar/bitcoin\")\n",
        "  BTC = Chromium.find_element(By.XPATH,'/html/body/div[3]/div[2]/div[1]/div[1]/div/div[3]/div[1]/div[2]')\n",
        "  btc = BTC.text\n",
        "  Chromium.get(\"https://kur.doviz.com/serbest-piyasa/amerikan-dolari\")\n",
        "  USD = Chromium.find_element(By.XPATH,'/html/body/div[3]/div[2]/div[1]/div[1]/div[2]/div[1]/div[2]')\n",
        "  usd = USD.text + \" TL\"\n",
        "  Chromium.get(\"https://kur.doviz.com/serbest-piyasa/euro\")\n",
        "  EURO = Chromium.find_element(By.XPATH,'/html/body/div[3]/div[2]/div[1]/div[1]/div[2]/div[1]/div[2]')\n",
        "  euro = EURO.text + \" TL\"\n",
        "  Chromium.get(\"https://altin.doviz.com/gram-altin\")\n",
        "  GRAM_Altin = Chromium.find_element(By.XPATH,'/html/body/div[3]/div[2]/div[1]/div[1]/div[2]/div[1]/div[2]')\n",
        "  gram = GRAM_Altin.text + \" TL\"\n",
        "\n",
        "  kur_bilgileri = {\n",
        "    \"BTC\":btc,\n",
        "    \"USD\":usd,\n",
        "    \"EURO\":euro,\n",
        "    \"GRAM ALTIN\":gram  \n",
        "  }\n",
        "\n",
        "  for x,y in kur_bilgileri.items():\n",
        "    kur += x + \" = \" + y + \"\\n----------------------------------\\n\"\n",
        "\n",
        "  return kur"
      ],
      "metadata": {
        "id": "FupQZxGa4_pV"
      },
      "execution_count": null,
      "outputs": []
    },
    {
      "cell_type": "code",
      "source": [
        "def KurDegisim():\n",
        "  while 1:\n",
        "    global usdDegisimEski\n",
        "    Chromium.get(\"https://kur.doviz.com/serbest-piyasa/amerikan-dolari\")\n",
        "    usdDegisim = Chromium.find_element(By.XPATH,'/html/body/div[3]/div[2]/div[1]/div[1]/div[2]/div[1]/div[3]/span[1]')\n",
        "    usdDegisimYeni = float(usdDegisim.text[1:].replace(\",\",\".\"))\n",
        "    \n",
        "    if usdDegisimEski > usdDegisimYeni:\n",
        "      dovizBot.send_message(ChatID,\"Dolar %\"+ str(usdDegisimYeni) +\" değerinde anlık DÜŞÜŞ yaşadı\")\n",
        "    if usdDegisimEski < usdDegisimYeni:\n",
        "      dovizBot.send_message(ChatID,\"Dolar %\"+ str(usdDegisimYeni) +\" değerinde YÜKSELİŞ oldu.\")\n",
        "\n",
        "    usdDegisimEski = usdDegisimYeni\n",
        "    time.sleep(18)"
      ],
      "metadata": {
        "id": "irqhln66HrIc"
      },
      "execution_count": null,
      "outputs": []
    },
    {
      "cell_type": "markdown",
      "source": [
        "#####Bot İstek Fonksiyonları\n"
      ],
      "metadata": {
        "id": "91E2VAQuHKaV"
      }
    },
    {
      "cell_type": "code",
      "source": [
        "@dovizBot.message_handler(commands=['kur'])\n",
        "def kur(message):\n",
        " dovizBot.reply_to(message, KurBilgisi())\n",
        "\n",
        "@dovizBot.message_handler(commands=['start','h'])\n",
        "def start(message):\n",
        " if message.text == \"/start\":\n",
        "    dovizBot.send_message(message.chat.id,\"Döviz Takip Botuna Hoşgeldiniz!!\\nYardım ve Komutlar için;\\n /h\") \n",
        " if message.text == \"/h\":\n",
        "    dovizBot.reply_to(message,\"Bot komutları : /start, /h, /kur\\n\\n/kur : Anlık Döviz Bilgisi\")"
      ],
      "metadata": {
        "id": "A-cVz7rBHJ37"
      },
      "execution_count": null,
      "outputs": []
    },
    {
      "cell_type": "markdown",
      "source": [
        "##### . . : : ANA KISIM : : . . "
      ],
      "metadata": {
        "id": "KNo5Qc0F-_cb"
      }
    },
    {
      "cell_type": "code",
      "source": [
        "dovizBot.polling(skip_pending=True)"
      ],
      "metadata": {
        "id": "ZGR7coW71hoi"
      },
      "execution_count": null,
      "outputs": []
    }
  ]
}